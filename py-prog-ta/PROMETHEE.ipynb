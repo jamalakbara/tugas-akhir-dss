{
 "cells": [
  {
   "cell_type": "code",
   "execution_count": null,
   "metadata": {},
   "outputs": [],
   "source": [
    "%run Weighting.ipynb"
   ]
  },
  {
   "cell_type": "code",
   "execution_count": null,
   "metadata": {},
   "outputs": [],
   "source": [
    "tabel_alternatif = open_tabel(\"Tabel Alternatif.csv\")\n",
    "\n",
    "tabel_alternatif"
   ]
  },
  {
   "cell_type": "code",
   "execution_count": null,
   "metadata": {},
   "outputs": [],
   "source": [
    "nilai_jams = [70, 70, 70, 70, 70, 70, 70, 70, 70, 70]"
   ]
  },
  {
   "cell_type": "code",
   "execution_count": null,
   "metadata": {},
   "outputs": [],
   "source": [
    "mean = get_mean(tabel_alternatif)\n",
    "std = get_std(tabel_alternatif)\n",
    "params = get_params(mean, nilai_jams, std)\n",
    "\n",
    "params"
   ]
  },
  {
   "cell_type": "code",
   "execution_count": null,
   "metadata": {},
   "outputs": [],
   "source": [
    "tabel_alternatif = add_parameter(params, tabel_alternatif)\n",
    "\n",
    "tabel_alternatif"
   ]
  },
  {
   "cell_type": "code",
   "execution_count": null,
   "metadata": {},
   "outputs": [],
   "source": [
    "pilihan_jurusan = get_jurusan(tabel_alternatif)\n",
    "\n",
    "for pilihan in pilihan_jurusan:\n",
    "    if \"(ipa)\" in pilihan.casefold().split():\n",
    "        print(pilihan)"
   ]
  },
  {
   "cell_type": "code",
   "execution_count": null,
   "metadata": {},
   "outputs": [],
   "source": [
    "fp_gaussian = fungsi_preferensi_gaussian(tabel_alternatif)\n",
    "\n",
    "fp_gaussian"
   ]
  },
  {
   "cell_type": "code",
   "execution_count": null,
   "metadata": {},
   "outputs": [],
   "source": [
    "index_preferensi_global = idx_pref_global(fp_gaussian, weight)\n",
    "\n",
    "index_preferensi_global"
   ]
  },
  {
   "cell_type": "code",
   "execution_count": null,
   "metadata": {},
   "outputs": [],
   "source": [
    "e_flow = entering_flow(pilihan_jurusan, index_preferensi_global)\n",
    "\n",
    "e_flow"
   ]
  },
  {
   "cell_type": "code",
   "execution_count": null,
   "metadata": {},
   "outputs": [],
   "source": [
    "l_flow = leaving_flow(pilihan_jurusan, index_preferensi_global)\n",
    "\n",
    "l_flow"
   ]
  },
  {
   "cell_type": "code",
   "execution_count": null,
   "metadata": {},
   "outputs": [],
   "source": [
    "n_flow = net_flow(pilihan_jurusan, e_flow, l_flow)\n",
    "\n",
    "n_flow"
   ]
  },
  {
   "cell_type": "code",
   "execution_count": null,
   "metadata": {},
   "outputs": [],
   "source": [
    "hasil_outrank = sorted(n_flow.items(), key = lambda kv:(kv[1], kv[0]), reverse = True)\n",
    "\n",
    "tab = dict()\n",
    "\n",
    "rank = list()\n",
    "jurusan = list()\n",
    "net = list()\n",
    "\n",
    "for i in range(len(hasil_outrank)):\n",
    "    rank.append(i+1)\n",
    "    jurusan.append(hasil_outrank[i][0])\n",
    "    net.append(hasil_outrank[i][1])\n",
    "    \n",
    "tab[\"Jurusan\"] = jurusan\n",
    "tab[\"Net Flow\"] = net\n",
    "\n",
    "tabel_hasil = pd.DataFrame(tab, index=rank)\n",
    "\n",
    "tabel_hasil"
   ]
  }
 ],
 "metadata": {
  "kernelspec": {
   "display_name": "Python 3",
   "language": "python",
   "name": "python3"
  },
  "language_info": {
   "codemirror_mode": {
    "name": "ipython",
    "version": 3
   },
   "file_extension": ".py",
   "mimetype": "text/x-python",
   "name": "python",
   "nbconvert_exporter": "python",
   "pygments_lexer": "ipython3",
   "version": "3.7.4"
  }
 },
 "nbformat": 4,
 "nbformat_minor": 2
}
