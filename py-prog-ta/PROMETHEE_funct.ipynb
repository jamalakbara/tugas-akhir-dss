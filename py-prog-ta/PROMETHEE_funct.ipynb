{
 "cells": [
  {
   "cell_type": "code",
   "execution_count": 1,
   "metadata": {},
   "outputs": [
    {
     "name": "stdout",
     "output_type": "stream",
     "text": [
      "Pixiedust database opened successfully\n"
     ]
    },
    {
     "data": {
      "text/html": [
       "\n",
       "        <div style=\"margin:10px\">\n",
       "            <a href=\"https://github.com/ibm-watson-data-lab/pixiedust\" target=\"_new\">\n",
       "                <img src=\"https://github.com/ibm-watson-data-lab/pixiedust/raw/master/docs/_static/pd_icon32.png\" style=\"float:left;margin-right:10px\"/>\n",
       "            </a>\n",
       "            <span>Pixiedust version 1.1.18</span>\n",
       "        </div>\n",
       "        "
      ],
      "text/plain": [
       "<IPython.core.display.HTML object>"
      ]
     },
     "metadata": {},
     "output_type": "display_data"
    }
   ],
   "source": [
    "import pixiedust"
   ]
  },
  {
   "cell_type": "code",
   "execution_count": 2,
   "metadata": {},
   "outputs": [],
   "source": [
    "import random"
   ]
  },
  {
   "cell_type": "code",
   "execution_count": 3,
   "metadata": {},
   "outputs": [],
   "source": [
    "import pandas as pd\n",
    "import math"
   ]
  },
  {
   "cell_type": "code",
   "execution_count": 4,
   "metadata": {},
   "outputs": [],
   "source": [
    "def open_tabel(file):\n",
    "    tabel_alternatif = pd.read_csv(file, index_col=0)\n",
    "    \n",
    "    return tabel_alternatif"
   ]
  },
  {
   "cell_type": "code",
   "execution_count": 5,
   "metadata": {},
   "outputs": [],
   "source": [
    "def add_parameter(nilai, tabel_alternatif):\n",
    "    tabel_alternatif[\"Parameter\"] = nilai\n",
    "    \n",
    "    return tabel_alternatif"
   ]
  },
  {
   "cell_type": "code",
   "execution_count": 6,
   "metadata": {},
   "outputs": [],
   "source": [
    "def get_jurusan(tabel_alternatif):\n",
    "    pilihan_jurusan = []\n",
    "    for column in tabel_alternatif:\n",
    "        if column != \"Parameter\":\n",
    "            pilihan_jurusan.append(column)\n",
    "            \n",
    "    return pilihan_jurusan"
   ]
  },
  {
   "cell_type": "code",
   "execution_count": 7,
   "metadata": {},
   "outputs": [],
   "source": [
    "def deviasi(jurusan, jurusan_compare, index_name):\n",
    "    nilai_deviasi = tabel_alternatif[jurusan][index_name] - tabel_alternatif[jurusan_compare][index_name]\n",
    "    \n",
    "    return nilai_deviasi"
   ]
  },
  {
   "cell_type": "code",
   "execution_count": 8,
   "metadata": {},
   "outputs": [],
   "source": [
    "def idx_pref_global1(fp_gaussian, column_test, weight):\n",
    "    index_preferensi_global = {}\n",
    "    \n",
    "    for column in fp_gaussian:\n",
    "        nilai_gaussian = 0\n",
    "        for kriteria in fp_gaussian.index:\n",
    "        \n",
    "            if column_test.casefold() == column.casefold().split(\"&\")[0].replace(\" (ips)\", \"\")\\\n",
    "            or column_test.casefold() == column.casefold().split(\"&\")[0].replace(\" (ipa)\", \"\"):\n",
    "                nilai_gaussian += fp_gaussian[column][kriteria]\n",
    "            else:\n",
    "                nilai_gaussian += fp_gaussian[column][kriteria]*weight[kriteria]\n",
    "            \n",
    "        index_preferensi_global[column] = nilai_gaussian\n",
    "        \n",
    "    tabel_index_preferensi_global = pd.DataFrame(index_preferensi_global, index = [\"Index Preferensi Global\"])\n",
    "\n",
    "    return tabel_index_preferensi_global"
   ]
  },
  {
   "cell_type": "code",
   "execution_count": 9,
   "metadata": {},
   "outputs": [],
   "source": [
    "def idx_pref_global(fp_gaussian, weigth):\n",
    "    index_preferensi_global = {}\n",
    "    \n",
    "    for column in fp_gaussian:\n",
    "        nilai_gaussian = 0\n",
    "        for kriteria in fp_gaussian.index:\n",
    "            nilai_gaussian += fp_gaussian[column][kriteria]*weight[kriteria]\n",
    "            \n",
    "        index_preferensi_global[column] = nilai_gaussian\n",
    "        \n",
    "    tabel_index_preferensi_global = pd.DataFrame(index_preferensi_global, index = [\"Index Preferensi Global\"])\n",
    "\n",
    "    return tabel_index_preferensi_global"
   ]
  },
  {
   "cell_type": "code",
   "execution_count": 10,
   "metadata": {},
   "outputs": [],
   "source": [
    "def entering_flow(pilihan_jurusan, index_preferensi_global):\n",
    "    e_flow = {}\n",
    "\n",
    "    for item in pilihan_jurusan:\n",
    "        ef = 0\n",
    "        for piece in index_preferensi_global:\n",
    "            s = piece.split(\"&\")\n",
    "\n",
    "            if item in s and s.index(item) == 1:\n",
    "                ef += index_preferensi_global[piece][\"Index Preferensi Global\"] * (1/(len(pilihan_jurusan) - 1))\n",
    "\n",
    "        e_flow[item] = ef\n",
    "\n",
    "    return e_flow"
   ]
  },
  {
   "cell_type": "code",
   "execution_count": 11,
   "metadata": {},
   "outputs": [],
   "source": [
    "def leaving_flow(pilihan_jurusan, index_preferensi_global):\n",
    "    l_flow = {}\n",
    "\n",
    "    for item in pilihan_jurusan:\n",
    "        lf = 0\n",
    "        for piece in index_preferensi_global:\n",
    "            s = piece.split(\"&\")\n",
    "\n",
    "            if item in s and s.index(item) == 0:\n",
    "                lf += index_preferensi_global[piece][\"Index Preferensi Global\"] * (1/(len(pilihan_jurusan) - 1))\n",
    "\n",
    "        l_flow[item] = lf\n",
    "\n",
    "    return l_flow"
   ]
  },
  {
   "cell_type": "code",
   "execution_count": 12,
   "metadata": {},
   "outputs": [],
   "source": [
    "def net_flow(pilihan_jurusan, e_flow, l_flow):\n",
    "    n_flow = {}\n",
    "\n",
    "    for jurusan in pilihan_jurusan:\n",
    "        n_flow[jurusan] = l_flow[jurusan] - e_flow[jurusan]\n",
    "\n",
    "    return n_flow"
   ]
  },
  {
   "cell_type": "code",
   "execution_count": 13,
   "metadata": {},
   "outputs": [],
   "source": [
    "def get_std(tabel_alternatif):\n",
    "    #nyari simpangan baku\n",
    "    std = tabel_alternatif.std(axis=1)\n",
    "\n",
    "    return std"
   ]
  },
  {
   "cell_type": "code",
   "execution_count": 14,
   "metadata": {},
   "outputs": [],
   "source": [
    "def get_mean(tabel_alternatif):\n",
    "    #nyari rata2\n",
    "    mean = tabel_alternatif.mean(axis=1)\n",
    "\n",
    "    return mean"
   ]
  },
  {
   "cell_type": "code",
   "execution_count": 15,
   "metadata": {},
   "outputs": [],
   "source": [
    "def get_params(mean, nilai, std):\n",
    "    params = []\n",
    "    for bjg in range(len(nilai)):\n",
    "        tot = (nilai[bjg]- mean[bjg]) / std[bjg]\n",
    "        params.append(tot)\n",
    "\n",
    "    return params"
   ]
  },
  {
   "cell_type": "code",
   "execution_count": 16,
   "metadata": {
    "pixiedust": {
     "displayParams": {}
    }
   },
   "outputs": [],
   "source": [
    "def fungsi_preferensi_gaussian(tabel_alternatif, q, p):\n",
    "    fp_gaussian = {}\n",
    "    fp_gaussian_val = list()\n",
    "    tabel_gaus = pd.DataFrame()\n",
    "    #adaw = {}\n",
    "\n",
    "    for jurusan in pilihan_jurusan:\n",
    "        for jurusan_compare in pilihan_jurusan:\n",
    "            if jurusan == jurusan_compare:\n",
    "                continue\n",
    "            else:\n",
    "                for index_name in tabel_alternatif.index:\n",
    "                    if \"(IPA)\" in jurusan.split():\n",
    "                        if index_name == \"Matematika\" or index_name == \"Inggris\" or index_name == \"Indonesia\" or index_name == \"Fisika\" or index_name == \"Kimia\" or index_name == \"Biologi\":\n",
    "\n",
    "                               #menghitung deviasi\n",
    "                            nilai_deviasi = deviasi(jurusan, jurusan_compare, index_name)\n",
    "\n",
    "                            #menghitung fungsi preferensi gaussian\n",
    "                            if nilai_deviasi <= q:\n",
    "#                                 gaussian = 1 - math.exp(-1*(((nilai_deviasi)**2) / (2*((tabel_alternatif[\"Parameter\"][index_name])**2))))\n",
    "                                gaussian = 0\n",
    "                            else:\n",
    "                                gaussian = 1\n",
    "                                #adaw[f\"{jurusan}&{jurusan_compare} ({index_name})\"] = nilai_deviasi\n",
    "\n",
    "                            deviasi_name = f\"{jurusan}&{jurusan_compare}\"\n",
    "                            fp_gaussian_val.append(gaussian)\n",
    "                        else:\n",
    "                            fp_gaussian_val.append(0)\n",
    "\n",
    "                    elif \"(IPS)\" in jurusan.split():\n",
    "                        if index_name == \"Ekonomi\" or index_name == \"Inggris\" or index_name == \"Indonesia\" or index_name == \"Geografi\" or index_name == \"Sosiologi\":\n",
    "\n",
    "                            #menghitung deviasi\n",
    "                            nilai_deviasi = deviasi(jurusan, jurusan_compare, index_name)\n",
    "\n",
    "                            #menghitung fungsi preferensi gaussian\n",
    "                            if nilai_deviasi <= q:\n",
    "#                                 gaussian = 1 - math.exp(-1*(((nilai_deviasi)**2) / (2*((tabel_alternatif[\"Parameter\"][index_name])**2))))\n",
    "                                gaussian = 0\n",
    "                            else:\n",
    "                                gaussian = 1\n",
    "                                #adaw[f\"{jurusan}&{jurusan_compare} ({index_name})\"] = nilai_deviasi\n",
    "\n",
    "                            deviasi_name = f\"{jurusan}&{jurusan_compare}\"\n",
    "                            fp_gaussian_val.append(gaussian)\n",
    "                        else:\n",
    "                            fp_gaussian_val.append(0)\n",
    "\n",
    "                    try:\n",
    "                        fp_gaussian[deviasi_name] = fp_gaussian_val\n",
    "                        \n",
    "                    except NameError:\n",
    "                        continue\n",
    "                        \n",
    "            if tabel_gaus.empty:\n",
    "                tabel_gaus = pd.DataFrame(fp_gaussian,[\n",
    "                    \"Matematika\",\n",
    "                    \"Inggris\",\n",
    "                    \"Indonesia\",\n",
    "                    \"Fisika\",\n",
    "                    \"Kimia\",\n",
    "                    \"Biologi\",\n",
    "                    \"Ekonomi\",\n",
    "                    \"Geografi\",\n",
    "                    \"Sosiologi\",\n",
    "                ])\n",
    "            else:\n",
    "                try:\n",
    "                    tabel_gaus[deviasi_name] = fp_gaussian_val\n",
    "                except ValueError:\n",
    "                    continue\n",
    "            fp_gaussian_val  = list()\n",
    "\n",
    "    return tabel_gaus"
   ]
  }
 ],
 "metadata": {
  "kernelspec": {
   "display_name": "Python 3",
   "language": "python",
   "name": "python3"
  },
  "language_info": {
   "codemirror_mode": {
    "name": "ipython",
    "version": 3
   },
   "file_extension": ".py",
   "mimetype": "text/x-python",
   "name": "python",
   "nbconvert_exporter": "python",
   "pygments_lexer": "ipython3",
   "version": "3.7.4"
  }
 },
 "nbformat": 4,
 "nbformat_minor": 2
}
